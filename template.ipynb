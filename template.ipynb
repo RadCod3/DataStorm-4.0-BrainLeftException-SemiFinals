{
 "cells": [
  {
   "attachments": {},
   "cell_type": "markdown",
   "metadata": {},
   "source": [
    "# Import the necessary libraries"
   ]
  },
  {
   "cell_type": "code",
   "execution_count": 52,
   "metadata": {},
   "outputs": [],
   "source": [
    "import pandas as pd\n",
    "import numpy as np\n",
    "import matplotlib.pyplot as plt\n",
    "import plotly.express as px\n",
    "import seaborn as sns\n",
    "\n",
    "\n",
    "from sklearn.model_selection import KFold, StratifiedKFold, train_test_split, GridSearchCV\n",
    "from sklearn.metrics import roc_auc_score, accuracy_score, confusion_matrix, ConfusionMatrixDisplay, RocCurveDisplay\n",
    "import warnings\n",
    "warnings.filterwarnings('ignore')"
   ]
  },
  {
   "attachments": {},
   "cell_type": "markdown",
   "metadata": {},
   "source": [
    "# Exploring the dataset"
   ]
  },
  {
   "attachments": {},
   "cell_type": "markdown",
   "metadata": {},
   "source": [
    "## 1. Freezer data"
   ]
  },
  {
   "cell_type": "code",
   "execution_count": 53,
   "metadata": {},
   "outputs": [
    {
     "data": {
      "text/html": [
       "<div>\n",
       "<style scoped>\n",
       "    .dataframe tbody tr th:only-of-type {\n",
       "        vertical-align: middle;\n",
       "    }\n",
       "\n",
       "    .dataframe tbody tr th {\n",
       "        vertical-align: top;\n",
       "    }\n",
       "\n",
       "    .dataframe thead th {\n",
       "        text-align: right;\n",
       "    }\n",
       "</style>\n",
       "<table border=\"1\" class=\"dataframe\">\n",
       "  <thead>\n",
       "    <tr style=\"text-align: right;\">\n",
       "      <th></th>\n",
       "      <th>Freezer Name</th>\n",
       "      <th>Model Number</th>\n",
       "      <th>Volume Capacity (Liters)</th>\n",
       "      <th>Power and maitainance Cost (LKR) per 100 hours</th>\n",
       "    </tr>\n",
       "  </thead>\n",
       "  <tbody>\n",
       "    <tr>\n",
       "      <th>0</th>\n",
       "      <td>ChillMaster</td>\n",
       "      <td>M001</td>\n",
       "      <td>55</td>\n",
       "      <td>2500</td>\n",
       "    </tr>\n",
       "    <tr>\n",
       "      <th>1</th>\n",
       "      <td>FreezeZone</td>\n",
       "      <td>M002</td>\n",
       "      <td>75</td>\n",
       "      <td>2800</td>\n",
       "    </tr>\n",
       "    <tr>\n",
       "      <th>2</th>\n",
       "      <td>CoolTech</td>\n",
       "      <td>M003</td>\n",
       "      <td>120</td>\n",
       "      <td>3200</td>\n",
       "    </tr>\n",
       "    <tr>\n",
       "      <th>3</th>\n",
       "      <td>mini CoolTech</td>\n",
       "      <td>M004</td>\n",
       "      <td>30</td>\n",
       "      <td>1800</td>\n",
       "    </tr>\n",
       "    <tr>\n",
       "      <th>4</th>\n",
       "      <td>IceBlast Pro</td>\n",
       "      <td>M005</td>\n",
       "      <td>150</td>\n",
       "      <td>3500</td>\n",
       "    </tr>\n",
       "  </tbody>\n",
       "</table>\n",
       "</div>"
      ],
      "text/plain": [
       "    Freezer Name Model Number  Volume Capacity (Liters)   \n",
       "0    ChillMaster         M001                        55  \\\n",
       "1     FreezeZone         M002                        75   \n",
       "2       CoolTech         M003                       120   \n",
       "3  mini CoolTech         M004                        30   \n",
       "4   IceBlast Pro         M005                       150   \n",
       "\n",
       "   Power and maitainance Cost (LKR) per 100 hours  \n",
       "0                                            2500  \n",
       "1                                            2800  \n",
       "2                                            3200  \n",
       "3                                            1800  \n",
       "4                                            3500  "
      ]
     },
     "execution_count": 53,
     "metadata": {},
     "output_type": "execute_result"
    }
   ],
   "source": [
    "freezer_data_df = pd.read_csv('./dataset/freezer_data.csv')\n",
    "freezer_data_df.head()"
   ]
  },
  {
   "attachments": {},
   "cell_type": "markdown",
   "metadata": {},
   "source": [
    "So there are 10 types of freezers. We need to cluster the shops and recommend the best freezer for each cluster."
   ]
  },
  {
   "cell_type": "code",
   "execution_count": 54,
   "metadata": {},
   "outputs": [
    {
     "data": {
      "text/plain": [
       "(10, 4)"
      ]
     },
     "execution_count": 54,
     "metadata": {},
     "output_type": "execute_result"
    }
   ],
   "source": [
    "freezer_data_df.shape"
   ]
  },
  {
   "cell_type": "code",
   "execution_count": 55,
   "metadata": {},
   "outputs": [
    {
     "data": {
      "text/html": [
       "<div>\n",
       "<style scoped>\n",
       "    .dataframe tbody tr th:only-of-type {\n",
       "        vertical-align: middle;\n",
       "    }\n",
       "\n",
       "    .dataframe tbody tr th {\n",
       "        vertical-align: top;\n",
       "    }\n",
       "\n",
       "    .dataframe thead th {\n",
       "        text-align: right;\n",
       "    }\n",
       "</style>\n",
       "<table border=\"1\" class=\"dataframe\">\n",
       "  <thead>\n",
       "    <tr style=\"text-align: right;\">\n",
       "      <th></th>\n",
       "      <th>Freezer Name</th>\n",
       "      <th>Model Number</th>\n",
       "      <th>Volume Capacity (Liters)</th>\n",
       "      <th>Power and maitainance Cost (LKR) per 100 hours</th>\n",
       "    </tr>\n",
       "  </thead>\n",
       "  <tbody>\n",
       "    <tr>\n",
       "      <th>0</th>\n",
       "      <td>ChillMaster</td>\n",
       "      <td>M001</td>\n",
       "      <td>55</td>\n",
       "      <td>2500</td>\n",
       "    </tr>\n",
       "    <tr>\n",
       "      <th>1</th>\n",
       "      <td>FreezeZone</td>\n",
       "      <td>M002</td>\n",
       "      <td>75</td>\n",
       "      <td>2800</td>\n",
       "    </tr>\n",
       "    <tr>\n",
       "      <th>2</th>\n",
       "      <td>CoolTech</td>\n",
       "      <td>M003</td>\n",
       "      <td>120</td>\n",
       "      <td>3200</td>\n",
       "    </tr>\n",
       "    <tr>\n",
       "      <th>3</th>\n",
       "      <td>mini CoolTech</td>\n",
       "      <td>M004</td>\n",
       "      <td>30</td>\n",
       "      <td>1800</td>\n",
       "    </tr>\n",
       "    <tr>\n",
       "      <th>4</th>\n",
       "      <td>IceBlast Pro</td>\n",
       "      <td>M005</td>\n",
       "      <td>150</td>\n",
       "      <td>3500</td>\n",
       "    </tr>\n",
       "    <tr>\n",
       "      <th>5</th>\n",
       "      <td>IceBlast</td>\n",
       "      <td>M006</td>\n",
       "      <td>65</td>\n",
       "      <td>2700</td>\n",
       "    </tr>\n",
       "    <tr>\n",
       "      <th>6</th>\n",
       "      <td>FreezeTech</td>\n",
       "      <td>M007</td>\n",
       "      <td>100</td>\n",
       "      <td>3000</td>\n",
       "    </tr>\n",
       "    <tr>\n",
       "      <th>7</th>\n",
       "      <td>FreezeTech 3.0</td>\n",
       "      <td>M008</td>\n",
       "      <td>25</td>\n",
       "      <td>1600</td>\n",
       "    </tr>\n",
       "    <tr>\n",
       "      <th>8</th>\n",
       "      <td>ChillTech</td>\n",
       "      <td>M009</td>\n",
       "      <td>80</td>\n",
       "      <td>2800</td>\n",
       "    </tr>\n",
       "    <tr>\n",
       "      <th>9</th>\n",
       "      <td>IceTech</td>\n",
       "      <td>M010</td>\n",
       "      <td>200</td>\n",
       "      <td>4500</td>\n",
       "    </tr>\n",
       "  </tbody>\n",
       "</table>\n",
       "</div>"
      ],
      "text/plain": [
       "     Freezer Name Model Number  Volume Capacity (Liters)   \n",
       "0     ChillMaster         M001                        55  \\\n",
       "1      FreezeZone         M002                        75   \n",
       "2        CoolTech         M003                       120   \n",
       "3   mini CoolTech         M004                        30   \n",
       "4    IceBlast Pro         M005                       150   \n",
       "5        IceBlast         M006                        65   \n",
       "6     FreezeTech          M007                       100   \n",
       "7  FreezeTech 3.0         M008                        25   \n",
       "8       ChillTech         M009                        80   \n",
       "9         IceTech         M010                       200   \n",
       "\n",
       "   Power and maitainance Cost (LKR) per 100 hours  \n",
       "0                                            2500  \n",
       "1                                            2800  \n",
       "2                                            3200  \n",
       "3                                            1800  \n",
       "4                                            3500  \n",
       "5                                            2700  \n",
       "6                                            3000  \n",
       "7                                            1600  \n",
       "8                                            2800  \n",
       "9                                            4500  "
      ]
     },
     "execution_count": 55,
     "metadata": {},
     "output_type": "execute_result"
    }
   ],
   "source": [
    "freezer_data_df.head(10)"
   ]
  },
  {
   "cell_type": "code",
   "execution_count": 76,
   "metadata": {},
   "outputs": [
    {
     "data": {
      "text/plain": [
       "Freezer Name                                      0\n",
       "Model Number                                      0\n",
       "Volume Capacity (Liters)                          0\n",
       "Power and maitainance Cost (LKR) per 100 hours    0\n",
       "dtype: int64"
      ]
     },
     "execution_count": 76,
     "metadata": {},
     "output_type": "execute_result"
    }
   ],
   "source": [
    "freezer_data_df.isna().sum()"
   ]
  },
  {
   "attachments": {},
   "cell_type": "markdown",
   "metadata": {},
   "source": [
    "## 2. Outlet Area data"
   ]
  },
  {
   "cell_type": "code",
   "execution_count": 56,
   "metadata": {},
   "outputs": [
    {
     "data": {
      "text/html": [
       "<div>\n",
       "<style scoped>\n",
       "    .dataframe tbody tr th:only-of-type {\n",
       "        vertical-align: middle;\n",
       "    }\n",
       "\n",
       "    .dataframe tbody tr th {\n",
       "        vertical-align: top;\n",
       "    }\n",
       "\n",
       "    .dataframe thead th {\n",
       "        text-align: right;\n",
       "    }\n",
       "</style>\n",
       "<table border=\"1\" class=\"dataframe\">\n",
       "  <thead>\n",
       "    <tr style=\"text-align: right;\">\n",
       "      <th></th>\n",
       "      <th>Outlet_ID</th>\n",
       "      <th>area(sqft)</th>\n",
       "    </tr>\n",
       "  </thead>\n",
       "  <tbody>\n",
       "    <tr>\n",
       "      <th>0</th>\n",
       "      <td>ID7203</td>\n",
       "      <td>5660</td>\n",
       "    </tr>\n",
       "    <tr>\n",
       "      <th>1</th>\n",
       "      <td>ID1878</td>\n",
       "      <td>4138</td>\n",
       "    </tr>\n",
       "    <tr>\n",
       "      <th>2</th>\n",
       "      <td>ID1740</td>\n",
       "      <td>5546</td>\n",
       "    </tr>\n",
       "    <tr>\n",
       "      <th>3</th>\n",
       "      <td>ID4366</td>\n",
       "      <td>5134</td>\n",
       "    </tr>\n",
       "    <tr>\n",
       "      <th>4</th>\n",
       "      <td>ID8358</td>\n",
       "      <td>4100</td>\n",
       "    </tr>\n",
       "  </tbody>\n",
       "</table>\n",
       "</div>"
      ],
      "text/plain": [
       "  Outlet_ID  area(sqft)\n",
       "0    ID7203        5660\n",
       "1    ID1878        4138\n",
       "2    ID1740        5546\n",
       "3    ID4366        5134\n",
       "4    ID8358        4100"
      ]
     },
     "execution_count": 56,
     "metadata": {},
     "output_type": "execute_result"
    }
   ],
   "source": [
    "outlets_area_df = pd.read_csv('./dataset/outlets_data.csv')\n",
    "outlets_area_df.head()"
   ]
  },
  {
   "cell_type": "code",
   "execution_count": 57,
   "metadata": {},
   "outputs": [
    {
     "data": {
      "text/plain": [
       "(988, 2)"
      ]
     },
     "execution_count": 57,
     "metadata": {},
     "output_type": "execute_result"
    }
   ],
   "source": [
    "outlets_area_df.shape"
   ]
  },
  {
   "cell_type": "code",
   "execution_count": 58,
   "metadata": {},
   "outputs": [
    {
     "data": {
      "text/plain": [
       "951"
      ]
     },
     "execution_count": 58,
     "metadata": {},
     "output_type": "execute_result"
    }
   ],
   "source": [
    "outlets_area_df['Outlet_ID'].nunique()"
   ]
  },
  {
   "cell_type": "code",
   "execution_count": 59,
   "metadata": {},
   "outputs": [],
   "source": [
    "# find the duplicated outlets id\n",
    "# get the duplicated outlets id, and the duplicated rows\n",
    "duplicated_ids = (\n",
    "    outlets_area_df[outlets_area_df[\"Outlet_ID\"].duplicated()][\"Outlet_ID\"]\n",
    "    .unique()\n",
    "    .tolist()\n",
    ")"
   ]
  },
  {
   "cell_type": "code",
   "execution_count": 60,
   "metadata": {},
   "outputs": [
    {
     "name": "stdout",
     "output_type": "stream",
     "text": [
      "Outlet ID: ID8278\n",
      "    Outlet_ID  area(sqft)\n",
      "320    ID8278        3600\n",
      "384    ID8278        4980\n",
      "--------------------\n",
      "Outlet ID: ID8631\n",
      "    Outlet_ID  area(sqft)\n",
      "25     ID8631        4024\n",
      "406    ID8631        3196\n",
      "--------------------\n",
      "Outlet ID: ID4003\n",
      "    Outlet_ID  area(sqft)\n",
      "77     ID4003        4841\n",
      "444    ID4003        2990\n",
      "--------------------\n",
      "Outlet ID: ID1365\n",
      "    Outlet_ID  area(sqft)\n",
      "98     ID1365        5823\n",
      "494    ID1365        1291\n",
      "--------------------\n",
      "Outlet ID: ID2170\n",
      "    Outlet_ID  area(sqft)\n",
      "310    ID2170        8077\n",
      "525    ID2170        6169\n",
      "--------------------\n",
      "Outlet ID: ID1485\n",
      "    Outlet_ID  area(sqft)\n",
      "292    ID1485        4535\n",
      "537    ID1485        9483\n",
      "--------------------\n",
      "Outlet ID: ID9465\n",
      "    Outlet_ID  area(sqft)\n",
      "441    ID9465        1583\n",
      "563    ID9465        6650\n",
      "--------------------\n",
      "Outlet ID: ID6214\n",
      "    Outlet_ID  area(sqft)\n",
      "232    ID6214        1608\n",
      "564    ID6214        4052\n",
      "--------------------\n",
      "Outlet ID: ID3549\n",
      "    Outlet_ID  area(sqft)\n",
      "415    ID3549        4292\n",
      "566    ID3549        9831\n",
      "--------------------\n",
      "Outlet ID: ID9672\n",
      "    Outlet_ID  area(sqft)\n",
      "359    ID9672        7165\n",
      "576    ID9672        7966\n",
      "--------------------\n",
      "Outlet ID: ID3946\n",
      "    Outlet_ID  area(sqft)\n",
      "44     ID3946        5044\n",
      "591    ID3946        4687\n",
      "--------------------\n",
      "Outlet ID: ID1543\n",
      "    Outlet_ID  area(sqft)\n",
      "400    ID1543        1295\n",
      "593    ID1543        7431\n",
      "--------------------\n",
      "Outlet ID: ID6628\n",
      "    Outlet_ID  area(sqft)\n",
      "152    ID6628        4727\n",
      "673    ID6628        7044\n",
      "--------------------\n",
      "Outlet ID: ID9980\n",
      "    Outlet_ID  area(sqft)\n",
      "449    ID9980        4256\n",
      "680    ID9980        7527\n",
      "--------------------\n",
      "Outlet ID: ID3127\n",
      "    Outlet_ID  area(sqft)\n",
      "216    ID3127         145\n",
      "698    ID3127        4540\n",
      "--------------------\n",
      "Outlet ID: ID8564\n",
      "    Outlet_ID  area(sqft)\n",
      "394    ID8564        2301\n",
      "722    ID8564        6145\n",
      "--------------------\n",
      "Outlet ID: ID4015\n",
      "    Outlet_ID  area(sqft)\n",
      "265    ID4015        9546\n",
      "731    ID4015        6027\n",
      "--------------------\n",
      "Outlet ID: ID6708\n",
      "    Outlet_ID  area(sqft)\n",
      "215    ID6708         212\n",
      "749    ID6708        5992\n",
      "--------------------\n",
      "Outlet ID: ID6574\n",
      "    Outlet_ID  area(sqft)\n",
      "256    ID6574        4980\n",
      "752    ID6574        7440\n",
      "--------------------\n",
      "Outlet ID: ID2077\n",
      "    Outlet_ID  area(sqft)\n",
      "445    ID2077        4641\n",
      "776    ID2077        8481\n",
      "--------------------\n",
      "Outlet ID: ID4520\n",
      "    Outlet_ID  area(sqft)\n",
      "249    ID4520        9331\n",
      "811    ID4520        2141\n",
      "--------------------\n",
      "Outlet ID: ID7948\n",
      "    Outlet_ID  area(sqft)\n",
      "626    ID7948        8200\n",
      "829    ID7948        2832\n",
      "--------------------\n",
      "Outlet ID: ID8229\n",
      "    Outlet_ID  area(sqft)\n",
      "765    ID8229        9102\n",
      "846    ID8229        2319\n",
      "--------------------\n",
      "Outlet ID: ID1429\n",
      "    Outlet_ID  area(sqft)\n",
      "399    ID1429        1300\n",
      "851    ID1429        2854\n",
      "--------------------\n",
      "Outlet ID: ID7799\n",
      "    Outlet_ID  area(sqft)\n",
      "756    ID7799        8445\n",
      "857    ID7799        1712\n",
      "--------------------\n",
      "Outlet ID: ID2819\n",
      "    Outlet_ID  area(sqft)\n",
      "74     ID2819        4803\n",
      "866    ID2819        1899\n",
      "--------------------\n",
      "Outlet ID: ID5913\n",
      "    Outlet_ID  area(sqft)\n",
      "753    ID5913        9629\n",
      "872    ID5913        3673\n",
      "--------------------\n",
      "Outlet ID: ID1750\n",
      "    Outlet_ID  area(sqft)\n",
      "369    ID1750        8748\n",
      "877    ID1750        1093\n",
      "--------------------\n",
      "Outlet ID: ID2074\n",
      "    Outlet_ID  area(sqft)\n",
      "615    ID2074        6190\n",
      "878    ID2074         974\n",
      "--------------------\n",
      "Outlet ID: ID5563\n",
      "    Outlet_ID  area(sqft)\n",
      "235    ID5563         203\n",
      "884    ID5563        2985\n",
      "--------------------\n",
      "Outlet ID: ID7358\n",
      "    Outlet_ID  area(sqft)\n",
      "656    ID7358        5024\n",
      "900    ID7358        3185\n",
      "--------------------\n",
      "Outlet ID: ID9841\n",
      "    Outlet_ID  area(sqft)\n",
      "418    ID9841         578\n",
      "916    ID9841        2179\n",
      "--------------------\n",
      "Outlet ID: ID3741\n",
      "    Outlet_ID  area(sqft)\n",
      "357    ID3741        6768\n",
      "940    ID3741        1930\n",
      "--------------------\n",
      "Outlet ID: ID9541\n",
      "    Outlet_ID  area(sqft)\n",
      "601    ID9541        5468\n",
      "942    ID9541        2074\n",
      "--------------------\n",
      "Outlet ID: ID3985\n",
      "    Outlet_ID  area(sqft)\n",
      "674    ID3985        6440\n",
      "964    ID3985        3518\n",
      "--------------------\n",
      "Outlet ID: ID7422\n",
      "    Outlet_ID  area(sqft)\n",
      "240    ID7422        1266\n",
      "967    ID7422        2021\n",
      "--------------------\n",
      "Outlet ID: ID7029\n",
      "    Outlet_ID  area(sqft)\n",
      "540    ID7029        3342\n",
      "974    ID7029        3616\n",
      "--------------------\n"
     ]
    }
   ],
   "source": [
    "for dup_id in duplicated_ids:\n",
    "    print(f\"Outlet ID: {dup_id}\")\n",
    "    print(outlets_area_df[outlets_area_df[\"Outlet_ID\"] == dup_id])\n",
    "    print(\"-\" * 20)"
   ]
  },
  {
   "cell_type": "code",
   "execution_count": 77,
   "metadata": {},
   "outputs": [
    {
     "data": {
      "text/plain": [
       "Outlet_ID     0\n",
       "area(sqft)    0\n",
       "dtype: int64"
      ]
     },
     "execution_count": 77,
     "metadata": {},
     "output_type": "execute_result"
    }
   ],
   "source": [
    "outlets_area_df.isna().sum()"
   ]
  },
  {
   "attachments": {},
   "cell_type": "markdown",
   "metadata": {},
   "source": [
    "## 3. Product data"
   ]
  },
  {
   "cell_type": "code",
   "execution_count": 61,
   "metadata": {},
   "outputs": [
    {
     "data": {
      "text/html": [
       "<div>\n",
       "<style scoped>\n",
       "    .dataframe tbody tr th:only-of-type {\n",
       "        vertical-align: middle;\n",
       "    }\n",
       "\n",
       "    .dataframe tbody tr th {\n",
       "        vertical-align: top;\n",
       "    }\n",
       "\n",
       "    .dataframe thead th {\n",
       "        text-align: right;\n",
       "    }\n",
       "</style>\n",
       "<table border=\"1\" class=\"dataframe\">\n",
       "  <thead>\n",
       "    <tr style=\"text-align: right;\">\n",
       "      <th></th>\n",
       "      <th>pid</th>\n",
       "      <th>volume</th>\n",
       "      <th>product_name</th>\n",
       "      <th>price</th>\n",
       "    </tr>\n",
       "  </thead>\n",
       "  <tbody>\n",
       "    <tr>\n",
       "      <th>0</th>\n",
       "      <td>IP1</td>\n",
       "      <td>0.2</td>\n",
       "      <td>Vanilla Mini Cone</td>\n",
       "      <td>100</td>\n",
       "    </tr>\n",
       "    <tr>\n",
       "      <th>1</th>\n",
       "      <td>IP2</td>\n",
       "      <td>0.2</td>\n",
       "      <td>Chocolate Petite Bar</td>\n",
       "      <td>90</td>\n",
       "    </tr>\n",
       "    <tr>\n",
       "      <th>2</th>\n",
       "      <td>IP3</td>\n",
       "      <td>0.2</td>\n",
       "      <td>Strawberry Tiny Cup</td>\n",
       "      <td>110</td>\n",
       "    </tr>\n",
       "    <tr>\n",
       "      <th>3</th>\n",
       "      <td>IP4</td>\n",
       "      <td>0.2</td>\n",
       "      <td>Mint Bite-size Pop</td>\n",
       "      <td>100</td>\n",
       "    </tr>\n",
       "    <tr>\n",
       "      <th>4</th>\n",
       "      <td>IP5</td>\n",
       "      <td>0.2</td>\n",
       "      <td>Butter Pecan Small Stick</td>\n",
       "      <td>100</td>\n",
       "    </tr>\n",
       "  </tbody>\n",
       "</table>\n",
       "</div>"
      ],
      "text/plain": [
       "   pid  volume              product_name  price\n",
       "0  IP1     0.2         Vanilla Mini Cone    100\n",
       "1  IP2     0.2      Chocolate Petite Bar     90\n",
       "2  IP3     0.2       Strawberry Tiny Cup    110\n",
       "3  IP4     0.2        Mint Bite-size Pop    100\n",
       "4  IP5     0.2  Butter Pecan Small Stick    100"
      ]
     },
     "execution_count": 61,
     "metadata": {},
     "output_type": "execute_result"
    }
   ],
   "source": [
    "product_data_df = pd.read_csv('./dataset/product_data.csv')\n",
    "product_data_df.head()"
   ]
  },
  {
   "cell_type": "code",
   "execution_count": 62,
   "metadata": {},
   "outputs": [
    {
     "data": {
      "text/plain": [
       "(10, 4)"
      ]
     },
     "execution_count": 62,
     "metadata": {},
     "output_type": "execute_result"
    }
   ],
   "source": [
    "product_data_df.shape"
   ]
  },
  {
   "cell_type": "code",
   "execution_count": 63,
   "metadata": {},
   "outputs": [
    {
     "data": {
      "text/html": [
       "<div>\n",
       "<style scoped>\n",
       "    .dataframe tbody tr th:only-of-type {\n",
       "        vertical-align: middle;\n",
       "    }\n",
       "\n",
       "    .dataframe tbody tr th {\n",
       "        vertical-align: top;\n",
       "    }\n",
       "\n",
       "    .dataframe thead th {\n",
       "        text-align: right;\n",
       "    }\n",
       "</style>\n",
       "<table border=\"1\" class=\"dataframe\">\n",
       "  <thead>\n",
       "    <tr style=\"text-align: right;\">\n",
       "      <th></th>\n",
       "      <th>pid</th>\n",
       "      <th>volume</th>\n",
       "      <th>product_name</th>\n",
       "      <th>price</th>\n",
       "    </tr>\n",
       "  </thead>\n",
       "  <tbody>\n",
       "    <tr>\n",
       "      <th>0</th>\n",
       "      <td>IP1</td>\n",
       "      <td>0.2</td>\n",
       "      <td>Vanilla Mini Cone</td>\n",
       "      <td>100</td>\n",
       "    </tr>\n",
       "    <tr>\n",
       "      <th>1</th>\n",
       "      <td>IP2</td>\n",
       "      <td>0.2</td>\n",
       "      <td>Chocolate Petite Bar</td>\n",
       "      <td>90</td>\n",
       "    </tr>\n",
       "    <tr>\n",
       "      <th>2</th>\n",
       "      <td>IP3</td>\n",
       "      <td>0.2</td>\n",
       "      <td>Strawberry Tiny Cup</td>\n",
       "      <td>110</td>\n",
       "    </tr>\n",
       "    <tr>\n",
       "      <th>3</th>\n",
       "      <td>IP4</td>\n",
       "      <td>0.2</td>\n",
       "      <td>Mint Bite-size Pop</td>\n",
       "      <td>100</td>\n",
       "    </tr>\n",
       "    <tr>\n",
       "      <th>4</th>\n",
       "      <td>IP5</td>\n",
       "      <td>0.2</td>\n",
       "      <td>Butter Pecan Small Stick</td>\n",
       "      <td>100</td>\n",
       "    </tr>\n",
       "    <tr>\n",
       "      <th>5</th>\n",
       "      <td>BP1</td>\n",
       "      <td>1.0</td>\n",
       "      <td>Chocolate Fudge Big Scoop</td>\n",
       "      <td>1200</td>\n",
       "    </tr>\n",
       "    <tr>\n",
       "      <th>6</th>\n",
       "      <td>BP2</td>\n",
       "      <td>1.0</td>\n",
       "      <td>Moose Tracks Jumbo Cup</td>\n",
       "      <td>1100</td>\n",
       "    </tr>\n",
       "    <tr>\n",
       "      <th>7</th>\n",
       "      <td>BP3</td>\n",
       "      <td>1.0</td>\n",
       "      <td>Mint Chocolate Chip Family Pack</td>\n",
       "      <td>1150</td>\n",
       "    </tr>\n",
       "    <tr>\n",
       "      <th>8</th>\n",
       "      <td>BP4</td>\n",
       "      <td>1.0</td>\n",
       "      <td>Rocky Road Mega Tub</td>\n",
       "      <td>1000</td>\n",
       "    </tr>\n",
       "    <tr>\n",
       "      <th>9</th>\n",
       "      <td>BP5</td>\n",
       "      <td>1.0</td>\n",
       "      <td>Cookies and Cream Mega Tub</td>\n",
       "      <td>1100</td>\n",
       "    </tr>\n",
       "  </tbody>\n",
       "</table>\n",
       "</div>"
      ],
      "text/plain": [
       "   pid  volume                     product_name  price\n",
       "0  IP1     0.2                Vanilla Mini Cone    100\n",
       "1  IP2     0.2             Chocolate Petite Bar     90\n",
       "2  IP3     0.2              Strawberry Tiny Cup    110\n",
       "3  IP4     0.2               Mint Bite-size Pop    100\n",
       "4  IP5     0.2         Butter Pecan Small Stick    100\n",
       "5  BP1     1.0        Chocolate Fudge Big Scoop   1200\n",
       "6  BP2     1.0           Moose Tracks Jumbo Cup   1100\n",
       "7  BP3     1.0  Mint Chocolate Chip Family Pack   1150\n",
       "8  BP4     1.0              Rocky Road Mega Tub   1000\n",
       "9  BP5     1.0       Cookies and Cream Mega Tub   1100"
      ]
     },
     "execution_count": 63,
     "metadata": {},
     "output_type": "execute_result"
    }
   ],
   "source": [
    "product_data_df.head(10)"
   ]
  },
  {
   "cell_type": "code",
   "execution_count": 78,
   "metadata": {},
   "outputs": [
    {
     "data": {
      "text/plain": [
       "pid             0\n",
       "volume          0\n",
       "product_name    0\n",
       "price           0\n",
       "dtype: int64"
      ]
     },
     "execution_count": 78,
     "metadata": {},
     "output_type": "execute_result"
    }
   ],
   "source": [
    "product_data_df.isna().sum()"
   ]
  },
  {
   "attachments": {},
   "cell_type": "markdown",
   "metadata": {},
   "source": [
    "## 4. Sales data"
   ]
  },
  {
   "cell_type": "code",
   "execution_count": 64,
   "metadata": {},
   "outputs": [
    {
     "data": {
      "text/html": [
       "<div>\n",
       "<style scoped>\n",
       "    .dataframe tbody tr th:only-of-type {\n",
       "        vertical-align: middle;\n",
       "    }\n",
       "\n",
       "    .dataframe tbody tr th {\n",
       "        vertical-align: top;\n",
       "    }\n",
       "\n",
       "    .dataframe thead th {\n",
       "        text-align: right;\n",
       "    }\n",
       "</style>\n",
       "<table border=\"1\" class=\"dataframe\">\n",
       "  <thead>\n",
       "    <tr style=\"text-align: right;\">\n",
       "      <th></th>\n",
       "      <th>Outlet_ID</th>\n",
       "      <th>week</th>\n",
       "      <th>pid</th>\n",
       "      <th>product_name</th>\n",
       "      <th>no_units</th>\n",
       "    </tr>\n",
       "  </thead>\n",
       "  <tbody>\n",
       "    <tr>\n",
       "      <th>0</th>\n",
       "      <td>ID7203</td>\n",
       "      <td>1</td>\n",
       "      <td>IP1</td>\n",
       "      <td>Vanilla Mini Cone</td>\n",
       "      <td>874.0</td>\n",
       "    </tr>\n",
       "    <tr>\n",
       "      <th>1</th>\n",
       "      <td>ID7203</td>\n",
       "      <td>1</td>\n",
       "      <td>IP2</td>\n",
       "      <td>Chocolate Petite Bar</td>\n",
       "      <td>105.0</td>\n",
       "    </tr>\n",
       "    <tr>\n",
       "      <th>2</th>\n",
       "      <td>ID7203</td>\n",
       "      <td>1</td>\n",
       "      <td>IP3</td>\n",
       "      <td>Strawberry Tiny Cup</td>\n",
       "      <td>1198.0</td>\n",
       "    </tr>\n",
       "    <tr>\n",
       "      <th>3</th>\n",
       "      <td>ID7203</td>\n",
       "      <td>1</td>\n",
       "      <td>IP4</td>\n",
       "      <td>Mint Bite-size Pop</td>\n",
       "      <td>502.0</td>\n",
       "    </tr>\n",
       "    <tr>\n",
       "      <th>4</th>\n",
       "      <td>ID7203</td>\n",
       "      <td>1</td>\n",
       "      <td>IP5</td>\n",
       "      <td>Butter Pecan Small Stick</td>\n",
       "      <td>710.0</td>\n",
       "    </tr>\n",
       "  </tbody>\n",
       "</table>\n",
       "</div>"
      ],
      "text/plain": [
       "  Outlet_ID  week  pid              product_name  no_units\n",
       "0    ID7203     1  IP1         Vanilla Mini Cone     874.0\n",
       "1    ID7203     1  IP2      Chocolate Petite Bar     105.0\n",
       "2    ID7203     1  IP3       Strawberry Tiny Cup    1198.0\n",
       "3    ID7203     1  IP4        Mint Bite-size Pop     502.0\n",
       "4    ID7203     1  IP5  Butter Pecan Small Stick     710.0"
      ]
     },
     "execution_count": 64,
     "metadata": {},
     "output_type": "execute_result"
    }
   ],
   "source": [
    "sales_data_df = pd.read_csv('./dataset/sales_data.csv')\n",
    "sales_data_df.head()"
   ]
  },
  {
   "cell_type": "code",
   "execution_count": 65,
   "metadata": {},
   "outputs": [
    {
     "data": {
      "text/plain": [
       "(81000, 5)"
      ]
     },
     "execution_count": 65,
     "metadata": {},
     "output_type": "execute_result"
    }
   ],
   "source": [
    "sales_data_df.shape"
   ]
  },
  {
   "cell_type": "code",
   "execution_count": 66,
   "metadata": {},
   "outputs": [
    {
     "data": {
      "text/plain": [
       "951"
      ]
     },
     "execution_count": 66,
     "metadata": {},
     "output_type": "execute_result"
    }
   ],
   "source": [
    "sales_data_df['Outlet_ID'].nunique()"
   ]
  },
  {
   "cell_type": "code",
   "execution_count": 67,
   "metadata": {},
   "outputs": [
    {
     "data": {
      "text/plain": [
       "10"
      ]
     },
     "execution_count": 67,
     "metadata": {},
     "output_type": "execute_result"
    }
   ],
   "source": [
    "sales_data_df['product_name'].nunique()"
   ]
  },
  {
   "cell_type": "code",
   "execution_count": 68,
   "metadata": {},
   "outputs": [
    {
     "data": {
      "text/plain": [
       "12"
      ]
     },
     "execution_count": 68,
     "metadata": {},
     "output_type": "execute_result"
    }
   ],
   "source": [
    "sales_data_df['week'].nunique()"
   ]
  },
  {
   "cell_type": "code",
   "execution_count": 69,
   "metadata": {},
   "outputs": [
    {
     "data": {
      "text/html": [
       "<div>\n",
       "<style scoped>\n",
       "    .dataframe tbody tr th:only-of-type {\n",
       "        vertical-align: middle;\n",
       "    }\n",
       "\n",
       "    .dataframe tbody tr th {\n",
       "        vertical-align: top;\n",
       "    }\n",
       "\n",
       "    .dataframe thead th {\n",
       "        text-align: right;\n",
       "    }\n",
       "</style>\n",
       "<table border=\"1\" class=\"dataframe\">\n",
       "  <thead>\n",
       "    <tr style=\"text-align: right;\">\n",
       "      <th></th>\n",
       "      <th>week</th>\n",
       "      <th>no_units</th>\n",
       "    </tr>\n",
       "  </thead>\n",
       "  <tbody>\n",
       "    <tr>\n",
       "      <th>count</th>\n",
       "      <td>81000.000000</td>\n",
       "      <td>81000.000000</td>\n",
       "    </tr>\n",
       "    <tr>\n",
       "      <th>mean</th>\n",
       "      <td>6.504432</td>\n",
       "      <td>373.143543</td>\n",
       "    </tr>\n",
       "    <tr>\n",
       "      <th>std</th>\n",
       "      <td>3.453426</td>\n",
       "      <td>370.546966</td>\n",
       "    </tr>\n",
       "    <tr>\n",
       "      <th>min</th>\n",
       "      <td>1.000000</td>\n",
       "      <td>20.000000</td>\n",
       "    </tr>\n",
       "    <tr>\n",
       "      <th>25%</th>\n",
       "      <td>4.000000</td>\n",
       "      <td>79.000000</td>\n",
       "    </tr>\n",
       "    <tr>\n",
       "      <th>50%</th>\n",
       "      <td>7.000000</td>\n",
       "      <td>210.000000</td>\n",
       "    </tr>\n",
       "    <tr>\n",
       "      <th>75%</th>\n",
       "      <td>10.000000</td>\n",
       "      <td>593.000000</td>\n",
       "    </tr>\n",
       "    <tr>\n",
       "      <th>max</th>\n",
       "      <td>12.000000</td>\n",
       "      <td>1499.000000</td>\n",
       "    </tr>\n",
       "  </tbody>\n",
       "</table>\n",
       "</div>"
      ],
      "text/plain": [
       "               week      no_units\n",
       "count  81000.000000  81000.000000\n",
       "mean       6.504432    373.143543\n",
       "std        3.453426    370.546966\n",
       "min        1.000000     20.000000\n",
       "25%        4.000000     79.000000\n",
       "50%        7.000000    210.000000\n",
       "75%       10.000000    593.000000\n",
       "max       12.000000   1499.000000"
      ]
     },
     "execution_count": 69,
     "metadata": {},
     "output_type": "execute_result"
    }
   ],
   "source": [
    "sales_data_df.describe()"
   ]
  },
  {
   "cell_type": "code",
   "execution_count": 79,
   "metadata": {},
   "outputs": [
    {
     "data": {
      "text/plain": [
       "Outlet_ID       0\n",
       "week            0\n",
       "pid             0\n",
       "product_name    0\n",
       "no_units        0\n",
       "dtype: int64"
      ]
     },
     "execution_count": 79,
     "metadata": {},
     "output_type": "execute_result"
    }
   ],
   "source": [
    "sales_data_df.isna().sum()"
   ]
  },
  {
   "attachments": {},
   "cell_type": "markdown",
   "metadata": {},
   "source": [
    "## 5. Week data"
   ]
  },
  {
   "cell_type": "code",
   "execution_count": 70,
   "metadata": {},
   "outputs": [
    {
     "data": {
      "text/html": [
       "<div>\n",
       "<style scoped>\n",
       "    .dataframe tbody tr th:only-of-type {\n",
       "        vertical-align: middle;\n",
       "    }\n",
       "\n",
       "    .dataframe tbody tr th {\n",
       "        vertical-align: top;\n",
       "    }\n",
       "\n",
       "    .dataframe thead th {\n",
       "        text-align: right;\n",
       "    }\n",
       "</style>\n",
       "<table border=\"1\" class=\"dataframe\">\n",
       "  <thead>\n",
       "    <tr style=\"text-align: right;\">\n",
       "      <th></th>\n",
       "      <th>Week</th>\n",
       "      <th>Start Date</th>\n",
       "      <th>End Date</th>\n",
       "    </tr>\n",
       "  </thead>\n",
       "  <tbody>\n",
       "    <tr>\n",
       "      <th>0</th>\n",
       "      <td>Week 1</td>\n",
       "      <td>1/2/2023</td>\n",
       "      <td>1/8/2023</td>\n",
       "    </tr>\n",
       "    <tr>\n",
       "      <th>1</th>\n",
       "      <td>Week 2</td>\n",
       "      <td>1/9/2023</td>\n",
       "      <td>1/15/2023</td>\n",
       "    </tr>\n",
       "    <tr>\n",
       "      <th>2</th>\n",
       "      <td>Week 3</td>\n",
       "      <td>1/16/2023</td>\n",
       "      <td>1/22/2023</td>\n",
       "    </tr>\n",
       "    <tr>\n",
       "      <th>3</th>\n",
       "      <td>Week 4</td>\n",
       "      <td>1/23/2023</td>\n",
       "      <td>1/29/2023</td>\n",
       "    </tr>\n",
       "    <tr>\n",
       "      <th>4</th>\n",
       "      <td>Week 5</td>\n",
       "      <td>1/30/2023</td>\n",
       "      <td>2/5/2023</td>\n",
       "    </tr>\n",
       "  </tbody>\n",
       "</table>\n",
       "</div>"
      ],
      "text/plain": [
       "     Week Start Date   End Date\n",
       "0  Week 1   1/2/2023   1/8/2023\n",
       "1  Week 2   1/9/2023  1/15/2023\n",
       "2  Week 3  1/16/2023  1/22/2023\n",
       "3  Week 4  1/23/2023  1/29/2023\n",
       "4  Week 5  1/30/2023   2/5/2023"
      ]
     },
     "execution_count": 70,
     "metadata": {},
     "output_type": "execute_result"
    }
   ],
   "source": [
    "week_data_df = pd.read_csv('./dataset/week_data.csv')\n",
    "week_data_df.head()"
   ]
  },
  {
   "cell_type": "code",
   "execution_count": 71,
   "metadata": {},
   "outputs": [
    {
     "data": {
      "text/plain": [
       "(12, 3)"
      ]
     },
     "execution_count": 71,
     "metadata": {},
     "output_type": "execute_result"
    }
   ],
   "source": [
    "week_data_df.shape"
   ]
  },
  {
   "cell_type": "code",
   "execution_count": 72,
   "metadata": {},
   "outputs": [
    {
     "data": {
      "text/html": [
       "<div>\n",
       "<style scoped>\n",
       "    .dataframe tbody tr th:only-of-type {\n",
       "        vertical-align: middle;\n",
       "    }\n",
       "\n",
       "    .dataframe tbody tr th {\n",
       "        vertical-align: top;\n",
       "    }\n",
       "\n",
       "    .dataframe thead th {\n",
       "        text-align: right;\n",
       "    }\n",
       "</style>\n",
       "<table border=\"1\" class=\"dataframe\">\n",
       "  <thead>\n",
       "    <tr style=\"text-align: right;\">\n",
       "      <th></th>\n",
       "      <th>Week</th>\n",
       "      <th>Start Date</th>\n",
       "      <th>End Date</th>\n",
       "    </tr>\n",
       "  </thead>\n",
       "  <tbody>\n",
       "    <tr>\n",
       "      <th>0</th>\n",
       "      <td>Week 1</td>\n",
       "      <td>1/2/2023</td>\n",
       "      <td>1/8/2023</td>\n",
       "    </tr>\n",
       "    <tr>\n",
       "      <th>1</th>\n",
       "      <td>Week 2</td>\n",
       "      <td>1/9/2023</td>\n",
       "      <td>1/15/2023</td>\n",
       "    </tr>\n",
       "    <tr>\n",
       "      <th>2</th>\n",
       "      <td>Week 3</td>\n",
       "      <td>1/16/2023</td>\n",
       "      <td>1/22/2023</td>\n",
       "    </tr>\n",
       "    <tr>\n",
       "      <th>3</th>\n",
       "      <td>Week 4</td>\n",
       "      <td>1/23/2023</td>\n",
       "      <td>1/29/2023</td>\n",
       "    </tr>\n",
       "    <tr>\n",
       "      <th>4</th>\n",
       "      <td>Week 5</td>\n",
       "      <td>1/30/2023</td>\n",
       "      <td>2/5/2023</td>\n",
       "    </tr>\n",
       "    <tr>\n",
       "      <th>5</th>\n",
       "      <td>Week 6</td>\n",
       "      <td>2/6/2023</td>\n",
       "      <td>2/12/2023</td>\n",
       "    </tr>\n",
       "    <tr>\n",
       "      <th>6</th>\n",
       "      <td>Week 7</td>\n",
       "      <td>2/13/2023</td>\n",
       "      <td>2/19/2023</td>\n",
       "    </tr>\n",
       "    <tr>\n",
       "      <th>7</th>\n",
       "      <td>Week 8</td>\n",
       "      <td>2/20/2023</td>\n",
       "      <td>2/26/2023</td>\n",
       "    </tr>\n",
       "    <tr>\n",
       "      <th>8</th>\n",
       "      <td>Week 9</td>\n",
       "      <td>2/27/2023</td>\n",
       "      <td>3/5/2023</td>\n",
       "    </tr>\n",
       "    <tr>\n",
       "      <th>9</th>\n",
       "      <td>Week 10</td>\n",
       "      <td>3/6/2023</td>\n",
       "      <td>3/12/2023</td>\n",
       "    </tr>\n",
       "    <tr>\n",
       "      <th>10</th>\n",
       "      <td>Week 11</td>\n",
       "      <td>3/13/2023</td>\n",
       "      <td>3/19/2023</td>\n",
       "    </tr>\n",
       "    <tr>\n",
       "      <th>11</th>\n",
       "      <td>Week 12</td>\n",
       "      <td>3/20/2023</td>\n",
       "      <td>3/26/2023</td>\n",
       "    </tr>\n",
       "  </tbody>\n",
       "</table>\n",
       "</div>"
      ],
      "text/plain": [
       "       Week Start Date   End Date\n",
       "0    Week 1   1/2/2023   1/8/2023\n",
       "1    Week 2   1/9/2023  1/15/2023\n",
       "2    Week 3  1/16/2023  1/22/2023\n",
       "3    Week 4  1/23/2023  1/29/2023\n",
       "4    Week 5  1/30/2023   2/5/2023\n",
       "5    Week 6   2/6/2023  2/12/2023\n",
       "6    Week 7  2/13/2023  2/19/2023\n",
       "7    Week 8  2/20/2023  2/26/2023\n",
       "8    Week 9  2/27/2023   3/5/2023\n",
       "9   Week 10   3/6/2023  3/12/2023\n",
       "10  Week 11  3/13/2023  3/19/2023\n",
       "11  Week 12  3/20/2023  3/26/2023"
      ]
     },
     "execution_count": 72,
     "metadata": {},
     "output_type": "execute_result"
    }
   ],
   "source": [
    "week_data_df.head(12)"
   ]
  },
  {
   "attachments": {},
   "cell_type": "markdown",
   "metadata": {},
   "source": [
    "### Note:"
   ]
  },
  {
   "attachments": {},
   "cell_type": "markdown",
   "metadata": {},
   "source": [
    "We do have the data for three months <br>\n",
    "We have weekly sales details as well. <br>"
   ]
  },
  {
   "attachments": {},
   "cell_type": "markdown",
   "metadata": {},
   "source": [
    "Extract the day and the month from the date and add it to the sales data. <br>\n",
    "Then we can merge it with our own dataframes. <br> "
   ]
  },
  {
   "attachments": {},
   "cell_type": "markdown",
   "metadata": {},
   "source": [
    "There are some special days in these three months. <br>\n",
    "- 1st Jan 2023\n",
    "- 15th Jan 2023\n",
    "- 14th Feb 2023"
   ]
  },
  {
   "attachments": {},
   "cell_type": "markdown",
   "metadata": {},
   "source": [
    "### Extracting the day and the month from the date"
   ]
  },
  {
   "cell_type": "code",
   "execution_count": 73,
   "metadata": {},
   "outputs": [
    {
     "data": {
      "text/plain": [
       "Week          object\n",
       "Start Date    object\n",
       "End Date      object\n",
       "dtype: object"
      ]
     },
     "execution_count": 73,
     "metadata": {},
     "output_type": "execute_result"
    }
   ],
   "source": [
    "week_data_df.dtypes"
   ]
  },
  {
   "cell_type": "code",
   "execution_count": 74,
   "metadata": {},
   "outputs": [],
   "source": [
    "week_data_df['Start Date'] = pd.to_datetime(week_data_df['Start Date'])"
   ]
  },
  {
   "cell_type": "code",
   "execution_count": 75,
   "metadata": {},
   "outputs": [
    {
     "data": {
      "text/html": [
       "<div>\n",
       "<style scoped>\n",
       "    .dataframe tbody tr th:only-of-type {\n",
       "        vertical-align: middle;\n",
       "    }\n",
       "\n",
       "    .dataframe tbody tr th {\n",
       "        vertical-align: top;\n",
       "    }\n",
       "\n",
       "    .dataframe thead th {\n",
       "        text-align: right;\n",
       "    }\n",
       "</style>\n",
       "<table border=\"1\" class=\"dataframe\">\n",
       "  <thead>\n",
       "    <tr style=\"text-align: right;\">\n",
       "      <th></th>\n",
       "      <th>Week</th>\n",
       "      <th>Start Date</th>\n",
       "      <th>End Date</th>\n",
       "      <th>month_of_transaction</th>\n",
       "    </tr>\n",
       "  </thead>\n",
       "  <tbody>\n",
       "    <tr>\n",
       "      <th>0</th>\n",
       "      <td>Week 1</td>\n",
       "      <td>2023-01-02</td>\n",
       "      <td>2023-01-08</td>\n",
       "      <td>1</td>\n",
       "    </tr>\n",
       "    <tr>\n",
       "      <th>1</th>\n",
       "      <td>Week 2</td>\n",
       "      <td>2023-01-09</td>\n",
       "      <td>2023-01-15</td>\n",
       "      <td>1</td>\n",
       "    </tr>\n",
       "    <tr>\n",
       "      <th>2</th>\n",
       "      <td>Week 3</td>\n",
       "      <td>2023-01-16</td>\n",
       "      <td>2023-01-22</td>\n",
       "      <td>1</td>\n",
       "    </tr>\n",
       "    <tr>\n",
       "      <th>3</th>\n",
       "      <td>Week 4</td>\n",
       "      <td>2023-01-23</td>\n",
       "      <td>2023-01-29</td>\n",
       "      <td>1</td>\n",
       "    </tr>\n",
       "    <tr>\n",
       "      <th>4</th>\n",
       "      <td>Week 5</td>\n",
       "      <td>2023-01-30</td>\n",
       "      <td>2023-02-05</td>\n",
       "      <td>2</td>\n",
       "    </tr>\n",
       "  </tbody>\n",
       "</table>\n",
       "</div>"
      ],
      "text/plain": [
       "     Week Start Date   End Date  month_of_transaction\n",
       "0  Week 1 2023-01-02 2023-01-08                     1\n",
       "1  Week 2 2023-01-09 2023-01-15                     1\n",
       "2  Week 3 2023-01-16 2023-01-22                     1\n",
       "3  Week 4 2023-01-23 2023-01-29                     1\n",
       "4  Week 5 2023-01-30 2023-02-05                     2"
      ]
     },
     "execution_count": 75,
     "metadata": {},
     "output_type": "execute_result"
    }
   ],
   "source": [
    "# convert the 'End Date' column to a datetime format\n",
    "week_data_df['End Date'] = pd.to_datetime(week_data_df['End Date'])\n",
    "\n",
    "# extract the week of the transaction and store it in a new column\n",
    "week_data_df['month_of_transaction'] = week_data_df['End Date'].dt.month\n",
    "\n",
    "week_data_df.head()"
   ]
  }
 ],
 "metadata": {
  "kernelspec": {
   "display_name": ".venv",
   "language": "python",
   "name": "python3"
  },
  "language_info": {
   "codemirror_mode": {
    "name": "ipython",
    "version": 3
   },
   "file_extension": ".py",
   "mimetype": "text/x-python",
   "name": "python",
   "nbconvert_exporter": "python",
   "pygments_lexer": "ipython3",
   "version": "3.11.0"
  },
  "orig_nbformat": 4
 },
 "nbformat": 4,
 "nbformat_minor": 2
}
